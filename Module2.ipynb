{
 "cells": [
  {
   "cell_type": "markdown",
   "metadata": {},
   "source": [
    "## Learn to Use Regular Expression\n",
    "- This is a beginner-friendly notebook to learn about regular expression.\n",
    "- Regular expression is a powerful tool for text processing.\n",
    "- Regular expression is a sequence of characters that define a search pattern.\n",
    "- Regex is  sequence of character(s) mainly used to find and replace patterns in a string or file. \n",
    "- Regular expression is widely used in text processing, web scraping, data cleaning, etc.\n",
    "Hence they are pretty  handy in NLP tasks.\n",
    "\n",
    "\n",
    "While dealing with unstructured data, Regex are very useful in processing.\n",
    "### About the Module\n",
    "1. What are Regular Expressions?\n",
    "2. Use of Regular Expressions.\n",
    "3. Types of Regular Expressions\n",
    "4. Examples\n",
    "5. Implementing Regex in Python.\n",
    "\n",
    "#### What are Regular Expressions?\n"
   ]
  },
  {
   "cell_type": "code",
   "execution_count": null,
   "metadata": {},
   "outputs": [],
   "source": []
  }
 ],
 "metadata": {
  "language_info": {
   "name": "python"
  }
 },
 "nbformat": 4,
 "nbformat_minor": 2
}
