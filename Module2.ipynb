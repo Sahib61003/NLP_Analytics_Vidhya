{
 "cells": [
  {
   "cell_type": "markdown",
   "metadata": {},
   "source": [
    "## Learn to Use Regular Expression\n",
    "- This is a beginner-friendly notebook to learn about regular expression.\n",
    "- Regular expression is a powerful tool for text processing.\n",
    "- Regular expression is a sequence of characters that define a search pattern.\n",
    "- Regex is  sequence of character(s) mainly used to find and replace patterns in a string or file. \n",
    "- Regular expression is widely used in text processing, web scraping, data cleaning, etc.\n",
    "Hence they are pretty  handy in NLP tasks.\n",
    "\n",
    "\n",
    "While dealing with unstructured data, Regex are very useful in processing.\n",
    "### About the Module\n",
    "1. What are Regular Expressions?\n",
    "2. Use of Regular Expressions.\n",
    "3. Types of Regular Expressions\n",
    "4. Examples\n",
    "5. Implementing Regex in Python.\n",
    "\n",
    "#### What are Regular Expressions?\n",
    "1. Patterns of special characters having an associated textual meaning.\n",
    "2. Wild card expressions for matching, searching and parsing strings\n",
    "3. Regular expressions are used to identify whether a pattern exists in a given sequence of characters (string) or not.\n",
    "4. Used for writing rule based information mining systems.\n",
    "5. Applications or Use : Segmenataion of words from sentences; Segmentation of sentences from paragraphs etc\n",
    "\n",
    "#### Type of Regular Expressions\n",
    "1. Literal Characters\n",
    "2. Character Classes\n",
    "3. Quantifiers\n",
    "4. Anchors\n",
    "5. Groups and Logical OR\n",
    "* Common Regex functions\n",
    "    - re.match() : find first occurence of pattern in string\n",
    "    - re.search() : find first occurence of pattern in string\n",
    "    - re.findall() : find all occurences of pattern in string\n",
    "    - re.split() : split string by occurence of pattern\n",
    "    - re.sub() : replace pattern in string\n",
    "    - re.compile() : compile regular expression pattern into a Regex object\n",
    "    - re.finditer() : find all occurences of pattern in string\n",
    "    \n"
   ]
  },
  {
   "cell_type": "code",
   "execution_count": 1,
   "metadata": {},
   "outputs": [],
   "source": [
    "import re"
   ]
  },
  {
   "cell_type": "code",
   "execution_count": 2,
   "metadata": {},
   "outputs": [
    {
     "name": "stdout",
     "output_type": "stream",
     "text": [
      "<re.Match object; span=(0, 5), match='tiger'>\n"
     ]
    }
   ],
   "source": [
    "s = \"tiger is the national animal of India.\"\n",
    "pattern = \"tiger\"\n",
    "\n",
    "m = re.match(pattern, s)\n",
    "print(m)"
   ]
  },
  {
   "cell_type": "code",
   "execution_count": 3,
   "metadata": {},
   "outputs": [
    {
     "name": "stdout",
     "output_type": "stream",
     "text": [
      "None\n"
     ]
    }
   ],
   "source": [
    "s = \"tiger is the national animal of India.\"\n",
    "pattern2 = \"lion\"\n",
    "\n",
    "m = re.match(pattern2, s)\n",
    "print(m)"
   ]
  },
  {
   "cell_type": "code",
   "execution_count": 7,
   "metadata": {},
   "outputs": [
    {
     "name": "stdout",
     "output_type": "stream",
     "text": [
      "None\n",
      "<re.Match object; span=(32, 37), match='India'>\n",
      "India\n"
     ]
    }
   ],
   "source": [
    "#match  only checks in beginning of string\n",
    "s = \"tiger is the national animal of India.\"\n",
    "pattern = \"India\"\n",
    "\n",
    "m = re.match(pattern, s)\n",
    "print(m)\n",
    "\n",
    "\n",
    "#search iterates all over in string\n",
    "s = \"tiger is the national animal of India.\"\n",
    "patterns = \"India\"\n",
    "\n",
    "mo = re.search(patterns, s)\n",
    "print(mo)\n",
    "\n",
    "#to print\n",
    "print(mo.group())"
   ]
  },
  {
   "cell_type": "code",
   "execution_count": 12,
   "metadata": {},
   "outputs": [
    {
     "name": "stdout",
     "output_type": "stream",
     "text": [
      "['national', 'national']\n",
      "13\n",
      "54\n"
     ]
    }
   ],
   "source": [
    "#to find all occurences we use findall\n",
    "s = \"tiger is the national animal of India and kangaroo is national animal of Australia\"\n",
    "pattern = \"national\"\n",
    "\n",
    "m = re.findall(pattern, s)\n",
    "print(m)\n",
    "\n",
    "#to find all occurences we use finditer\n",
    "mi = re.finditer(pattern, s)\n",
    "\n",
    "for i in mi:\n",
    "    print(i.start()) #returns index\n"
   ]
  },
  {
   "cell_type": "code",
   "execution_count": 15,
   "metadata": {},
   "outputs": [
    {
     "name": "stdout",
     "output_type": "stream",
     "text": [
      "['12-02-1992', '12-05-2022']\n",
      " Ram was born on Friday and he died on Friday\n"
     ]
    }
   ],
   "source": [
    "# To retrieve dates from content\n",
    "\n",
    "s= \" Ram was born on 12-02-1992 and he died on 12-05-2022\"\n",
    "pattern = \"\\d{2}-\\d{2}-\\d{4}\"\n",
    "\n",
    "m = re.findall(pattern, s)\n",
    "print(m)\n",
    "\n",
    "# to replace with a particular word\n",
    "print(re.sub(pattern,\"Friday\", s))"
   ]
  },
  {
   "cell_type": "code",
   "execution_count": null,
   "metadata": {},
   "outputs": [],
   "source": []
  }
 ],
 "metadata": {
  "kernelspec": {
   "display_name": "Python 3",
   "language": "python",
   "name": "python3"
  },
  "language_info": {
   "codemirror_mode": {
    "name": "ipython",
    "version": 3
   },
   "file_extension": ".py",
   "mimetype": "text/x-python",
   "name": "python",
   "nbconvert_exporter": "python",
   "pygments_lexer": "ipython3",
   "version": "3.9.0"
  }
 },
 "nbformat": 4,
 "nbformat_minor": 2
}
